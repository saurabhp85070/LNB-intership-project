{
 "cells": [
  {
   "cell_type": "markdown",
   "id": "82bdcaff",
   "metadata": {},
   "source": [
    "## breast cancer prediction"
   ]
  },
  {
   "cell_type": "code",
   "execution_count": 7,
   "id": "ef77ed25",
   "metadata": {},
   "outputs": [],
   "source": [
    "import numpy as np \n",
    "import pandas as pd\n",
    "import matplotlib.pyplot as plt\n",
    "import seaborn as sns"
   ]
  },
  {
   "cell_type": "code",
   "execution_count": 8,
   "id": "5b08185a",
   "metadata": {},
   "outputs": [],
   "source": [
    "url=\"https://drive.google.com/file/d/1ISWL6t67FKdlUAQw1xyZ84cKxdAanoUq/view?usp=sharing\"\n",
    "url='https://drive.google.com/uc?id=' + url.split('/')[-2]\n",
    "df = pd.read_csv(url)"
   ]
  },
  {
   "cell_type": "code",
   "execution_count": 9,
   "id": "348edcab",
   "metadata": {},
   "outputs": [
    {
     "data": {
      "text/html": [
       "<div>\n",
       "<style scoped>\n",
       "    .dataframe tbody tr th:only-of-type {\n",
       "        vertical-align: middle;\n",
       "    }\n",
       "\n",
       "    .dataframe tbody tr th {\n",
       "        vertical-align: top;\n",
       "    }\n",
       "\n",
       "    .dataframe thead th {\n",
       "        text-align: right;\n",
       "    }\n",
       "</style>\n",
       "<table border=\"1\" class=\"dataframe\">\n",
       "  <thead>\n",
       "    <tr style=\"text-align: right;\">\n",
       "      <th></th>\n",
       "      <th>mean_radius</th>\n",
       "      <th>mean_texture</th>\n",
       "      <th>mean_perimeter</th>\n",
       "      <th>mean_area</th>\n",
       "      <th>mean_smoothness</th>\n",
       "      <th>diagnosis</th>\n",
       "    </tr>\n",
       "  </thead>\n",
       "  <tbody>\n",
       "    <tr>\n",
       "      <th>0</th>\n",
       "      <td>17.99</td>\n",
       "      <td>10.38</td>\n",
       "      <td>122.80</td>\n",
       "      <td>1001.0</td>\n",
       "      <td>0.11840</td>\n",
       "      <td>0</td>\n",
       "    </tr>\n",
       "    <tr>\n",
       "      <th>1</th>\n",
       "      <td>20.57</td>\n",
       "      <td>17.77</td>\n",
       "      <td>132.90</td>\n",
       "      <td>1326.0</td>\n",
       "      <td>0.08474</td>\n",
       "      <td>0</td>\n",
       "    </tr>\n",
       "    <tr>\n",
       "      <th>2</th>\n",
       "      <td>19.69</td>\n",
       "      <td>21.25</td>\n",
       "      <td>130.00</td>\n",
       "      <td>1203.0</td>\n",
       "      <td>0.10960</td>\n",
       "      <td>0</td>\n",
       "    </tr>\n",
       "    <tr>\n",
       "      <th>3</th>\n",
       "      <td>11.42</td>\n",
       "      <td>20.38</td>\n",
       "      <td>77.58</td>\n",
       "      <td>386.1</td>\n",
       "      <td>0.14250</td>\n",
       "      <td>0</td>\n",
       "    </tr>\n",
       "    <tr>\n",
       "      <th>4</th>\n",
       "      <td>20.29</td>\n",
       "      <td>14.34</td>\n",
       "      <td>135.10</td>\n",
       "      <td>1297.0</td>\n",
       "      <td>0.10030</td>\n",
       "      <td>0</td>\n",
       "    </tr>\n",
       "  </tbody>\n",
       "</table>\n",
       "</div>"
      ],
      "text/plain": [
       "   mean_radius  mean_texture  mean_perimeter  mean_area  mean_smoothness  \\\n",
       "0        17.99         10.38          122.80     1001.0          0.11840   \n",
       "1        20.57         17.77          132.90     1326.0          0.08474   \n",
       "2        19.69         21.25          130.00     1203.0          0.10960   \n",
       "3        11.42         20.38           77.58      386.1          0.14250   \n",
       "4        20.29         14.34          135.10     1297.0          0.10030   \n",
       "\n",
       "   diagnosis  \n",
       "0          0  \n",
       "1          0  \n",
       "2          0  \n",
       "3          0  \n",
       "4          0  "
      ]
     },
     "execution_count": 9,
     "metadata": {},
     "output_type": "execute_result"
    }
   ],
   "source": [
    "df.head()"
   ]
  },
  {
   "cell_type": "code",
   "execution_count": 10,
   "id": "3618e73f",
   "metadata": {},
   "outputs": [
    {
     "data": {
      "text/plain": [
       "(569, 6)"
      ]
     },
     "execution_count": 10,
     "metadata": {},
     "output_type": "execute_result"
    }
   ],
   "source": [
    "df.shape"
   ]
  },
  {
   "cell_type": "code",
   "execution_count": 11,
   "id": "09399a77",
   "metadata": {},
   "outputs": [
    {
     "name": "stdout",
     "output_type": "stream",
     "text": [
      "<class 'pandas.core.frame.DataFrame'>\n",
      "RangeIndex: 569 entries, 0 to 568\n",
      "Data columns (total 6 columns):\n",
      " #   Column           Non-Null Count  Dtype  \n",
      "---  ------           --------------  -----  \n",
      " 0   mean_radius      569 non-null    float64\n",
      " 1   mean_texture     569 non-null    float64\n",
      " 2   mean_perimeter   569 non-null    float64\n",
      " 3   mean_area        569 non-null    float64\n",
      " 4   mean_smoothness  569 non-null    float64\n",
      " 5   diagnosis        569 non-null    int64  \n",
      "dtypes: float64(5), int64(1)\n",
      "memory usage: 26.8 KB\n"
     ]
    }
   ],
   "source": [
    "df.info()"
   ]
  },
  {
   "cell_type": "code",
   "execution_count": 12,
   "id": "c5b0b0b4",
   "metadata": {},
   "outputs": [
    {
     "data": {
      "text/html": [
       "<div>\n",
       "<style scoped>\n",
       "    .dataframe tbody tr th:only-of-type {\n",
       "        vertical-align: middle;\n",
       "    }\n",
       "\n",
       "    .dataframe tbody tr th {\n",
       "        vertical-align: top;\n",
       "    }\n",
       "\n",
       "    .dataframe thead th {\n",
       "        text-align: right;\n",
       "    }\n",
       "</style>\n",
       "<table border=\"1\" class=\"dataframe\">\n",
       "  <thead>\n",
       "    <tr style=\"text-align: right;\">\n",
       "      <th></th>\n",
       "      <th>mean_radius</th>\n",
       "      <th>mean_texture</th>\n",
       "      <th>mean_perimeter</th>\n",
       "      <th>mean_area</th>\n",
       "      <th>mean_smoothness</th>\n",
       "      <th>diagnosis</th>\n",
       "    </tr>\n",
       "  </thead>\n",
       "  <tbody>\n",
       "    <tr>\n",
       "      <th>count</th>\n",
       "      <td>569.000000</td>\n",
       "      <td>569.000000</td>\n",
       "      <td>569.000000</td>\n",
       "      <td>569.000000</td>\n",
       "      <td>569.000000</td>\n",
       "      <td>569.000000</td>\n",
       "    </tr>\n",
       "    <tr>\n",
       "      <th>mean</th>\n",
       "      <td>14.127292</td>\n",
       "      <td>19.289649</td>\n",
       "      <td>91.969033</td>\n",
       "      <td>654.889104</td>\n",
       "      <td>0.096360</td>\n",
       "      <td>0.627417</td>\n",
       "    </tr>\n",
       "    <tr>\n",
       "      <th>std</th>\n",
       "      <td>3.524049</td>\n",
       "      <td>4.301036</td>\n",
       "      <td>24.298981</td>\n",
       "      <td>351.914129</td>\n",
       "      <td>0.014064</td>\n",
       "      <td>0.483918</td>\n",
       "    </tr>\n",
       "    <tr>\n",
       "      <th>min</th>\n",
       "      <td>6.981000</td>\n",
       "      <td>9.710000</td>\n",
       "      <td>43.790000</td>\n",
       "      <td>143.500000</td>\n",
       "      <td>0.052630</td>\n",
       "      <td>0.000000</td>\n",
       "    </tr>\n",
       "    <tr>\n",
       "      <th>25%</th>\n",
       "      <td>11.700000</td>\n",
       "      <td>16.170000</td>\n",
       "      <td>75.170000</td>\n",
       "      <td>420.300000</td>\n",
       "      <td>0.086370</td>\n",
       "      <td>0.000000</td>\n",
       "    </tr>\n",
       "    <tr>\n",
       "      <th>50%</th>\n",
       "      <td>13.370000</td>\n",
       "      <td>18.840000</td>\n",
       "      <td>86.240000</td>\n",
       "      <td>551.100000</td>\n",
       "      <td>0.095870</td>\n",
       "      <td>1.000000</td>\n",
       "    </tr>\n",
       "    <tr>\n",
       "      <th>75%</th>\n",
       "      <td>15.780000</td>\n",
       "      <td>21.800000</td>\n",
       "      <td>104.100000</td>\n",
       "      <td>782.700000</td>\n",
       "      <td>0.105300</td>\n",
       "      <td>1.000000</td>\n",
       "    </tr>\n",
       "    <tr>\n",
       "      <th>max</th>\n",
       "      <td>28.110000</td>\n",
       "      <td>39.280000</td>\n",
       "      <td>188.500000</td>\n",
       "      <td>2501.000000</td>\n",
       "      <td>0.163400</td>\n",
       "      <td>1.000000</td>\n",
       "    </tr>\n",
       "  </tbody>\n",
       "</table>\n",
       "</div>"
      ],
      "text/plain": [
       "       mean_radius  mean_texture  mean_perimeter    mean_area  \\\n",
       "count   569.000000    569.000000      569.000000   569.000000   \n",
       "mean     14.127292     19.289649       91.969033   654.889104   \n",
       "std       3.524049      4.301036       24.298981   351.914129   \n",
       "min       6.981000      9.710000       43.790000   143.500000   \n",
       "25%      11.700000     16.170000       75.170000   420.300000   \n",
       "50%      13.370000     18.840000       86.240000   551.100000   \n",
       "75%      15.780000     21.800000      104.100000   782.700000   \n",
       "max      28.110000     39.280000      188.500000  2501.000000   \n",
       "\n",
       "       mean_smoothness   diagnosis  \n",
       "count       569.000000  569.000000  \n",
       "mean          0.096360    0.627417  \n",
       "std           0.014064    0.483918  \n",
       "min           0.052630    0.000000  \n",
       "25%           0.086370    0.000000  \n",
       "50%           0.095870    1.000000  \n",
       "75%           0.105300    1.000000  \n",
       "max           0.163400    1.000000  "
      ]
     },
     "execution_count": 12,
     "metadata": {},
     "output_type": "execute_result"
    }
   ],
   "source": [
    "df.describe()"
   ]
  },
  {
   "cell_type": "code",
   "execution_count": 14,
   "id": "53e0db34",
   "metadata": {},
   "outputs": [
    {
     "data": {
      "text/plain": [
       "Index(['mean_radius', 'mean_texture', 'mean_perimeter', 'mean_area',\n",
       "       'mean_smoothness', 'diagnosis'],\n",
       "      dtype='object')"
      ]
     },
     "execution_count": 14,
     "metadata": {},
     "output_type": "execute_result"
    }
   ],
   "source": [
    "df.columns"
   ]
  },
  {
   "cell_type": "code",
   "execution_count": 15,
   "id": "7043f951",
   "metadata": {},
   "outputs": [
    {
     "data": {
      "text/html": [
       "<div>\n",
       "<style scoped>\n",
       "    .dataframe tbody tr th:only-of-type {\n",
       "        vertical-align: middle;\n",
       "    }\n",
       "\n",
       "    .dataframe tbody tr th {\n",
       "        vertical-align: top;\n",
       "    }\n",
       "\n",
       "    .dataframe thead th {\n",
       "        text-align: right;\n",
       "    }\n",
       "</style>\n",
       "<table border=\"1\" class=\"dataframe\">\n",
       "  <thead>\n",
       "    <tr style=\"text-align: right;\">\n",
       "      <th></th>\n",
       "      <th>mean_radius</th>\n",
       "      <th>mean_texture</th>\n",
       "      <th>mean_perimeter</th>\n",
       "      <th>mean_area</th>\n",
       "      <th>mean_smoothness</th>\n",
       "      <th>diagnosis</th>\n",
       "    </tr>\n",
       "  </thead>\n",
       "  <tbody>\n",
       "    <tr>\n",
       "      <th>0</th>\n",
       "      <td>False</td>\n",
       "      <td>False</td>\n",
       "      <td>False</td>\n",
       "      <td>False</td>\n",
       "      <td>False</td>\n",
       "      <td>False</td>\n",
       "    </tr>\n",
       "    <tr>\n",
       "      <th>1</th>\n",
       "      <td>False</td>\n",
       "      <td>False</td>\n",
       "      <td>False</td>\n",
       "      <td>False</td>\n",
       "      <td>False</td>\n",
       "      <td>False</td>\n",
       "    </tr>\n",
       "    <tr>\n",
       "      <th>2</th>\n",
       "      <td>False</td>\n",
       "      <td>False</td>\n",
       "      <td>False</td>\n",
       "      <td>False</td>\n",
       "      <td>False</td>\n",
       "      <td>False</td>\n",
       "    </tr>\n",
       "    <tr>\n",
       "      <th>3</th>\n",
       "      <td>False</td>\n",
       "      <td>False</td>\n",
       "      <td>False</td>\n",
       "      <td>False</td>\n",
       "      <td>False</td>\n",
       "      <td>False</td>\n",
       "    </tr>\n",
       "    <tr>\n",
       "      <th>4</th>\n",
       "      <td>False</td>\n",
       "      <td>False</td>\n",
       "      <td>False</td>\n",
       "      <td>False</td>\n",
       "      <td>False</td>\n",
       "      <td>False</td>\n",
       "    </tr>\n",
       "    <tr>\n",
       "      <th>...</th>\n",
       "      <td>...</td>\n",
       "      <td>...</td>\n",
       "      <td>...</td>\n",
       "      <td>...</td>\n",
       "      <td>...</td>\n",
       "      <td>...</td>\n",
       "    </tr>\n",
       "    <tr>\n",
       "      <th>564</th>\n",
       "      <td>False</td>\n",
       "      <td>False</td>\n",
       "      <td>False</td>\n",
       "      <td>False</td>\n",
       "      <td>False</td>\n",
       "      <td>False</td>\n",
       "    </tr>\n",
       "    <tr>\n",
       "      <th>565</th>\n",
       "      <td>False</td>\n",
       "      <td>False</td>\n",
       "      <td>False</td>\n",
       "      <td>False</td>\n",
       "      <td>False</td>\n",
       "      <td>False</td>\n",
       "    </tr>\n",
       "    <tr>\n",
       "      <th>566</th>\n",
       "      <td>False</td>\n",
       "      <td>False</td>\n",
       "      <td>False</td>\n",
       "      <td>False</td>\n",
       "      <td>False</td>\n",
       "      <td>False</td>\n",
       "    </tr>\n",
       "    <tr>\n",
       "      <th>567</th>\n",
       "      <td>False</td>\n",
       "      <td>False</td>\n",
       "      <td>False</td>\n",
       "      <td>False</td>\n",
       "      <td>False</td>\n",
       "      <td>False</td>\n",
       "    </tr>\n",
       "    <tr>\n",
       "      <th>568</th>\n",
       "      <td>False</td>\n",
       "      <td>False</td>\n",
       "      <td>False</td>\n",
       "      <td>False</td>\n",
       "      <td>False</td>\n",
       "      <td>False</td>\n",
       "    </tr>\n",
       "  </tbody>\n",
       "</table>\n",
       "<p>569 rows × 6 columns</p>\n",
       "</div>"
      ],
      "text/plain": [
       "     mean_radius  mean_texture  mean_perimeter  mean_area  mean_smoothness  \\\n",
       "0          False         False           False      False            False   \n",
       "1          False         False           False      False            False   \n",
       "2          False         False           False      False            False   \n",
       "3          False         False           False      False            False   \n",
       "4          False         False           False      False            False   \n",
       "..           ...           ...             ...        ...              ...   \n",
       "564        False         False           False      False            False   \n",
       "565        False         False           False      False            False   \n",
       "566        False         False           False      False            False   \n",
       "567        False         False           False      False            False   \n",
       "568        False         False           False      False            False   \n",
       "\n",
       "     diagnosis  \n",
       "0        False  \n",
       "1        False  \n",
       "2        False  \n",
       "3        False  \n",
       "4        False  \n",
       "..         ...  \n",
       "564      False  \n",
       "565      False  \n",
       "566      False  \n",
       "567      False  \n",
       "568      False  \n",
       "\n",
       "[569 rows x 6 columns]"
      ]
     },
     "execution_count": 15,
     "metadata": {},
     "output_type": "execute_result"
    }
   ],
   "source": [
    "df.isnull()"
   ]
  },
  {
   "cell_type": "code",
   "execution_count": 16,
   "id": "aee7bd27",
   "metadata": {},
   "outputs": [
    {
     "data": {
      "text/plain": [
       "mean_radius        0\n",
       "mean_texture       0\n",
       "mean_perimeter     0\n",
       "mean_area          0\n",
       "mean_smoothness    0\n",
       "diagnosis          0\n",
       "dtype: int64"
      ]
     },
     "execution_count": 16,
     "metadata": {},
     "output_type": "execute_result"
    }
   ],
   "source": [
    "df.isnull().sum()"
   ]
  },
  {
   "cell_type": "code",
   "execution_count": 17,
   "id": "1f21bb7b",
   "metadata": {},
   "outputs": [
    {
     "name": "stderr",
     "output_type": "stream",
     "text": [
      "d:\\programs\\python\\lib\\site-packages\\seaborn\\_decorators.py:36: FutureWarning: Pass the following variable as a keyword arg: x. From version 0.12, the only valid positional argument will be `data`, and passing other arguments without an explicit keyword will result in an error or misinterpretation.\n",
      "  warnings.warn(\n"
     ]
    },
    {
     "data": {
      "text/plain": [
       "<AxesSubplot:xlabel='diagnosis', ylabel='count'>"
      ]
     },
     "execution_count": 17,
     "metadata": {},
     "output_type": "execute_result"
    },
    {
     "data": {
      "image/png": "[encoded data removed]",
      "text/plain": [
       "<Figure size 432x288 with 1 Axes>"
      ]
     },
     "metadata": {
      "needs_background": "light"
     },
     "output_type": "display_data"
    }
   ],
   "source": [
    "sns.countplot(df[\"diagnosis\"])"
   ]
  },
  {
   "cell_type": "code",
   "execution_count": 18,
   "id": "a3b62830",
   "metadata": {},
   "outputs": [
    {
     "data": {
      "text/plain": [
       "<Figure size 1440x576 with 0 Axes>"
      ]
     },
     "execution_count": 18,
     "metadata": {},
     "output_type": "execute_result"
    },
    {
     "data": {
      "text/plain": [
       "<Figure size 1440x576 with 0 Axes>"
      ]
     },
     "metadata": {},
     "output_type": "display_data"
    }
   ],
   "source": [
    "plt.figure(figsize=(20,8))"
   ]
  },
  {
   "cell_type": "code",
   "execution_count": 20,
   "id": "c8afbb78",
   "metadata": {},
   "outputs": [
    {
     "name": "stderr",
     "output_type": "stream",
     "text": [
      "d:\\programs\\python\\lib\\site-packages\\seaborn\\_decorators.py:36: FutureWarning: Pass the following variable as a keyword arg: x. From version 0.12, the only valid positional argument will be `data`, and passing other arguments without an explicit keyword will result in an error or misinterpretation.\n",
      "  warnings.warn(\n"
     ]
    },
    {
     "data": {
      "text/plain": [
       "<AxesSubplot:xlabel='mean_radius', ylabel='count'>"
      ]
     },
     "execution_count": 20,
     "metadata": {},
     "output_type": "execute_result"
    },
    {
     "data": {
      "image/png": "[encoded data removed]",
      "text/plain": [
       "<Figure size 432x288 with 1 Axes>"
      ]
     },
     "metadata": {
      "needs_background": "light"
     },
     "output_type": "display_data"
    }
   ],
   "source": [
    "sns.countplot(df[\"mean_radius\"])"
   ]
  },
  {
   "cell_type": "code",
   "execution_count": 21,
   "id": "28f0a6c3",
   "metadata": {},
   "outputs": [
    {
     "name": "stderr",
     "output_type": "stream",
     "text": [
      "d:\\programs\\python\\lib\\site-packages\\seaborn\\_decorators.py:36: FutureWarning: Pass the following variable as a keyword arg: x. From version 0.12, the only valid positional argument will be `data`, and passing other arguments without an explicit keyword will result in an error or misinterpretation.\n",
      "  warnings.warn(\n"
     ]
    },
    {
     "data": {
      "text/plain": [
       "<AxesSubplot:xlabel='mean_radius', ylabel='count'>"
      ]
     },
     "execution_count": 21,
     "metadata": {},
     "output_type": "execute_result"
    },
    {
     "data": {
      "image/png": "[encoded data removed]",
      "text/plain": [
       "<Figure size 432x288 with 1 Axes>"
      ]
     },
     "metadata": {
      "needs_background": "light"
     },
     "output_type": "display_data"
    }
   ],
   "source": [
    "sns.countplot(df[\"mean_radius\"])"
   ]
  },
  {
   "cell_type": "code",
   "execution_count": 22,
   "id": "1886706d",
   "metadata": {},
   "outputs": [
    {
     "name": "stderr",
     "output_type": "stream",
     "text": [
      "d:\\programs\\python\\lib\\site-packages\\seaborn\\_decorators.py:36: FutureWarning: Pass the following variable as a keyword arg: x. From version 0.12, the only valid positional argument will be `data`, and passing other arguments without an explicit keyword will result in an error or misinterpretation.\n",
      "  warnings.warn(\n"
     ]
    },
    {
     "data": {
      "text/plain": [
       "<AxesSubplot:xlabel='mean_perimeter', ylabel='count'>"
      ]
     },
     "execution_count": 22,
     "metadata": {},
     "output_type": "execute_result"
    },
    {
     "data": {
      "image/png": "[encoded data removed]",
      "text/plain": [
       "<Figure size 432x288 with 1 Axes>"
      ]
     },
     "metadata": {
      "needs_background": "light"
     },
     "output_type": "display_data"
    }
   ],
   "source": [
    "sns.countplot(df[\"mean_perimeter\"])"
   ]
  },
  {
   "cell_type": "code",
   "execution_count": 23,
   "id": "6bfbdb87",
   "metadata": {},
   "outputs": [
    {
     "name": "stderr",
     "output_type": "stream",
     "text": [
      "d:\\programs\\python\\lib\\site-packages\\seaborn\\_decorators.py:36: FutureWarning: Pass the following variable as a keyword arg: x. From version 0.12, the only valid positional argument will be `data`, and passing other arguments without an explicit keyword will result in an error or misinterpretation.\n",
      "  warnings.warn(\n"
     ]
    },
    {
     "data": {
      "text/plain": [
       "<AxesSubplot:xlabel='mean_texture', ylabel='count'>"
      ]
     },
     "execution_count": 23,
     "metadata": {},
     "output_type": "execute_result"
    },
    {
     "data": {
      "image/png": "[encoded data removed]",
      "text/plain": [
       "<Figure size 432x288 with 1 Axes>"
      ]
     },
     "metadata": {
      "needs_background": "light"
     },
     "output_type": "display_data"
    }
   ],
   "source": [
    "sns.countplot(df[\"mean_texture\"])"
   ]
  },
  {
   "cell_type": "code",
   "execution_count": 24,
   "id": "50b474c6",
   "metadata": {},
   "outputs": [
    {
     "data": {
      "text/plain": [
       "<AxesSubplot:>"
      ]
     },
     "execution_count": 24,
     "metadata": {},
     "output_type": "execute_result"
    },
    {
     "data": {
      "image/png": "[encoded data removed]",
      "text/plain": [
       "<Figure size 1080x432 with 2 Axes>"
      ]
     },
     "metadata": {
      "needs_background": "light"
     },
     "output_type": "display_data"
    }
   ],
   "source": [
    "plt.figure(figsize=(15,6))\n",
    "sns.heatmap(df)"
   ]
  },
  {
   "cell_type": "code",
   "execution_count": 25,
   "id": "f16110c5",
   "metadata": {},
   "outputs": [
    {
     "data": {
      "text/html": [
       "<div>\n",
       "<style scoped>\n",
       "    .dataframe tbody tr th:only-of-type {\n",
       "        vertical-align: middle;\n",
       "    }\n",
       "\n",
       "    .dataframe tbody tr th {\n",
       "        vertical-align: top;\n",
       "    }\n",
       "\n",
       "    .dataframe thead th {\n",
       "        text-align: right;\n",
       "    }\n",
       "</style>\n",
       "<table border=\"1\" class=\"dataframe\">\n",
       "  <thead>\n",
       "    <tr style=\"text-align: right;\">\n",
       "      <th></th>\n",
       "      <th>mean_radius</th>\n",
       "      <th>mean_texture</th>\n",
       "      <th>mean_perimeter</th>\n",
       "      <th>mean_area</th>\n",
       "      <th>mean_smoothness</th>\n",
       "      <th>diagnosis</th>\n",
       "    </tr>\n",
       "  </thead>\n",
       "  <tbody>\n",
       "    <tr>\n",
       "      <th>mean_radius</th>\n",
       "      <td>1.000000</td>\n",
       "      <td>0.323782</td>\n",
       "      <td>0.997855</td>\n",
       "      <td>0.987357</td>\n",
       "      <td>0.170581</td>\n",
       "      <td>-0.730029</td>\n",
       "    </tr>\n",
       "    <tr>\n",
       "      <th>mean_texture</th>\n",
       "      <td>0.323782</td>\n",
       "      <td>1.000000</td>\n",
       "      <td>0.329533</td>\n",
       "      <td>0.321086</td>\n",
       "      <td>-0.023389</td>\n",
       "      <td>-0.415185</td>\n",
       "    </tr>\n",
       "    <tr>\n",
       "      <th>mean_perimeter</th>\n",
       "      <td>0.997855</td>\n",
       "      <td>0.329533</td>\n",
       "      <td>1.000000</td>\n",
       "      <td>0.986507</td>\n",
       "      <td>0.207278</td>\n",
       "      <td>-0.742636</td>\n",
       "    </tr>\n",
       "    <tr>\n",
       "      <th>mean_area</th>\n",
       "      <td>0.987357</td>\n",
       "      <td>0.321086</td>\n",
       "      <td>0.986507</td>\n",
       "      <td>1.000000</td>\n",
       "      <td>0.177028</td>\n",
       "      <td>-0.708984</td>\n",
       "    </tr>\n",
       "    <tr>\n",
       "      <th>mean_smoothness</th>\n",
       "      <td>0.170581</td>\n",
       "      <td>-0.023389</td>\n",
       "      <td>0.207278</td>\n",
       "      <td>0.177028</td>\n",
       "      <td>1.000000</td>\n",
       "      <td>-0.358560</td>\n",
       "    </tr>\n",
       "    <tr>\n",
       "      <th>diagnosis</th>\n",
       "      <td>-0.730029</td>\n",
       "      <td>-0.415185</td>\n",
       "      <td>-0.742636</td>\n",
       "      <td>-0.708984</td>\n",
       "      <td>-0.358560</td>\n",
       "      <td>1.000000</td>\n",
       "    </tr>\n",
       "  </tbody>\n",
       "</table>\n",
       "</div>"
      ],
      "text/plain": [
       "                 mean_radius  mean_texture  mean_perimeter  mean_area  \\\n",
       "mean_radius         1.000000      0.323782        0.997855   0.987357   \n",
       "mean_texture        0.323782      1.000000        0.329533   0.321086   \n",
       "mean_perimeter      0.997855      0.329533        1.000000   0.986507   \n",
       "mean_area           0.987357      0.321086        0.986507   1.000000   \n",
       "mean_smoothness     0.170581     -0.023389        0.207278   0.177028   \n",
       "diagnosis          -0.730029     -0.415185       -0.742636  -0.708984   \n",
       "\n",
       "                 mean_smoothness  diagnosis  \n",
       "mean_radius             0.170581  -0.730029  \n",
       "mean_texture           -0.023389  -0.415185  \n",
       "mean_perimeter          0.207278  -0.742636  \n",
       "mean_area               0.177028  -0.708984  \n",
       "mean_smoothness         1.000000  -0.358560  \n",
       "diagnosis              -0.358560   1.000000  "
      ]
     },
     "execution_count": 25,
     "metadata": {},
     "output_type": "execute_result"
    }
   ],
   "source": [
    "df.corr()"
   ]
  },
  {
   "cell_type": "code",
   "execution_count": 26,
   "id": "c8dcecdb",
   "metadata": {},
   "outputs": [
    {
     "data": {
      "text/plain": [
       "<AxesSubplot:>"
      ]
     },
     "execution_count": 26,
     "metadata": {},
     "output_type": "execute_result"
    },
    {
     "data": {
      "image/png": "[encoded data removed]",
      "text/plain": [
       "<Figure size 1080x1080 with 2 Axes>"
      ]
     },
     "metadata": {
      "needs_background": "light"
     },
     "output_type": "display_data"
    }
   ],
   "source": [
    "plt.figure(figsize=(15,15))\n",
    "sns.heatmap(df.corr(),annot=True,cmap=\"coolwarm\",linewidths=2)"
   ]
  },
  {
   "cell_type": "code",
   "execution_count": 27,
   "id": "39409140",
   "metadata": {},
   "outputs": [
    {
     "name": "stdout",
     "output_type": "stream",
     "text": [
      "The shape of f{data2} is:  (569, 5)\n"
     ]
    }
   ],
   "source": [
    "data2=df.drop([\"diagnosis\"],axis=1)\n",
    "print(\"The shape of f{data2} is: \",data2.shape)"
   ]
  },
  {
   "cell_type": "code",
   "execution_count": 30,
   "id": "15d4a30a",
   "metadata": {},
   "outputs": [
    {
     "name": "stderr",
     "output_type": "stream",
     "text": [
      "d:\\programs\\python\\lib\\site-packages\\seaborn\\_decorators.py:36: FutureWarning: Pass the following variables as keyword args: x, y. From version 0.12, the only valid positional argument will be `data`, and passing other arguments without an explicit keyword will result in an error or misinterpretation.\n",
      "  warnings.warn(\n"
     ]
    },
    {
     "data": {
      "image/png": "[encoded data removed]",
      "text/plain": [
       "<Figure size 1152x360 with 1 Axes>"
      ]
     },
     "metadata": {
      "needs_background": "light"
     },
     "output_type": "display_data"
    }
   ],
   "source": [
    "plt.figure(figsize=(16,5))\n",
    "ax=sns.barplot(data2.corrwith(df.diagnosis).index,data2.corrwith(df.diagnosis))\n",
    "ax.tick_params(labelrotation=90)"
   ]
  },
  {
   "cell_type": "code",
   "execution_count": 31,
   "id": "af697c06",
   "metadata": {},
   "outputs": [
    {
     "data": {
      "text/plain": [
       "Index(['mean_radius', 'mean_texture', 'mean_perimeter', 'mean_area',\n",
       "       'mean_smoothness'],\n",
       "      dtype='object')"
      ]
     },
     "execution_count": 31,
     "metadata": {},
     "output_type": "execute_result"
    }
   ],
   "source": [
    "data2.corrwith(df.diagnosis).index"
   ]
  },
  {
   "cell_type": "code",
   "execution_count": 32,
   "id": "3b7d0ecf",
   "metadata": {},
   "outputs": [],
   "source": [
    "x=df.drop([\"diagnosis\"],axis=1)\n",
    "y=df[\"diagnosis\"]"
   ]
  },
  {
   "cell_type": "code",
   "execution_count": 33,
   "id": "91d56541",
   "metadata": {},
   "outputs": [],
   "source": [
    "from sklearn.model_selection import train_test_split\n",
    "x_train,x_test,y_train,y_test=train_test_split(x,y,test_size=0.3,random_state=5)"
   ]
  },
  {
   "cell_type": "code",
   "execution_count": 34,
   "id": "7f50f94f",
   "metadata": {},
   "outputs": [
    {
     "data": {
      "text/html": [
       "<div>\n",
       "<style scoped>\n",
       "    .dataframe tbody tr th:only-of-type {\n",
       "        vertical-align: middle;\n",
       "    }\n",
       "\n",
       "    .dataframe tbody tr th {\n",
       "        vertical-align: top;\n",
       "    }\n",
       "\n",
       "    .dataframe thead th {\n",
       "        text-align: right;\n",
       "    }\n",
       "</style>\n",
       "<table border=\"1\" class=\"dataframe\">\n",
       "  <thead>\n",
       "    <tr style=\"text-align: right;\">\n",
       "      <th></th>\n",
       "      <th>mean_radius</th>\n",
       "      <th>mean_texture</th>\n",
       "      <th>mean_perimeter</th>\n",
       "      <th>mean_area</th>\n",
       "      <th>mean_smoothness</th>\n",
       "    </tr>\n",
       "  </thead>\n",
       "  <tbody>\n",
       "    <tr>\n",
       "      <th>28</th>\n",
       "      <td>15.300</td>\n",
       "      <td>25.27</td>\n",
       "      <td>102.40</td>\n",
       "      <td>732.4</td>\n",
       "      <td>0.10820</td>\n",
       "    </tr>\n",
       "    <tr>\n",
       "      <th>163</th>\n",
       "      <td>12.340</td>\n",
       "      <td>22.22</td>\n",
       "      <td>79.85</td>\n",
       "      <td>464.5</td>\n",
       "      <td>0.10120</td>\n",
       "    </tr>\n",
       "    <tr>\n",
       "      <th>123</th>\n",
       "      <td>14.500</td>\n",
       "      <td>10.89</td>\n",
       "      <td>94.28</td>\n",
       "      <td>640.7</td>\n",
       "      <td>0.11010</td>\n",
       "    </tr>\n",
       "    <tr>\n",
       "      <th>361</th>\n",
       "      <td>13.300</td>\n",
       "      <td>21.57</td>\n",
       "      <td>85.24</td>\n",
       "      <td>546.1</td>\n",
       "      <td>0.08582</td>\n",
       "    </tr>\n",
       "    <tr>\n",
       "      <th>549</th>\n",
       "      <td>10.820</td>\n",
       "      <td>24.21</td>\n",
       "      <td>68.89</td>\n",
       "      <td>361.6</td>\n",
       "      <td>0.08192</td>\n",
       "    </tr>\n",
       "    <tr>\n",
       "      <th>...</th>\n",
       "      <td>...</td>\n",
       "      <td>...</td>\n",
       "      <td>...</td>\n",
       "      <td>...</td>\n",
       "      <td>...</td>\n",
       "    </tr>\n",
       "    <tr>\n",
       "      <th>447</th>\n",
       "      <td>14.800</td>\n",
       "      <td>17.66</td>\n",
       "      <td>95.88</td>\n",
       "      <td>674.8</td>\n",
       "      <td>0.09179</td>\n",
       "    </tr>\n",
       "    <tr>\n",
       "      <th>98</th>\n",
       "      <td>11.600</td>\n",
       "      <td>12.84</td>\n",
       "      <td>74.34</td>\n",
       "      <td>412.6</td>\n",
       "      <td>0.08983</td>\n",
       "    </tr>\n",
       "    <tr>\n",
       "      <th>448</th>\n",
       "      <td>14.530</td>\n",
       "      <td>19.34</td>\n",
       "      <td>94.25</td>\n",
       "      <td>659.7</td>\n",
       "      <td>0.08388</td>\n",
       "    </tr>\n",
       "    <tr>\n",
       "      <th>381</th>\n",
       "      <td>11.040</td>\n",
       "      <td>14.93</td>\n",
       "      <td>70.67</td>\n",
       "      <td>372.7</td>\n",
       "      <td>0.07987</td>\n",
       "    </tr>\n",
       "    <tr>\n",
       "      <th>467</th>\n",
       "      <td>9.668</td>\n",
       "      <td>18.10</td>\n",
       "      <td>61.06</td>\n",
       "      <td>286.3</td>\n",
       "      <td>0.08311</td>\n",
       "    </tr>\n",
       "  </tbody>\n",
       "</table>\n",
       "<p>171 rows × 5 columns</p>\n",
       "</div>"
      ],
      "text/plain": [
       "     mean_radius  mean_texture  mean_perimeter  mean_area  mean_smoothness\n",
       "28        15.300         25.27          102.40      732.4          0.10820\n",
       "163       12.340         22.22           79.85      464.5          0.10120\n",
       "123       14.500         10.89           94.28      640.7          0.11010\n",
       "361       13.300         21.57           85.24      546.1          0.08582\n",
       "549       10.820         24.21           68.89      361.6          0.08192\n",
       "..           ...           ...             ...        ...              ...\n",
       "447       14.800         17.66           95.88      674.8          0.09179\n",
       "98        11.600         12.84           74.34      412.6          0.08983\n",
       "448       14.530         19.34           94.25      659.7          0.08388\n",
       "381       11.040         14.93           70.67      372.7          0.07987\n",
       "467        9.668         18.10           61.06      286.3          0.08311\n",
       "\n",
       "[171 rows x 5 columns]"
      ]
     },
     "execution_count": 34,
     "metadata": {},
     "output_type": "execute_result"
    }
   ],
   "source": [
    "x_test"
   ]
  },
  {
   "cell_type": "code",
   "execution_count": 35,
   "id": "668fd74e",
   "metadata": {},
   "outputs": [],
   "source": [
    "from sklearn.preprocessing import StandardScaler\n",
    "\n",
    "sc=StandardScaler()\n",
    "x_train_sc=sc.fit_transform(x_train)\n",
    "x_test_sc=sc.transform(x_test)"
   ]
  },
  {
   "cell_type": "code",
   "execution_count": 37,
   "id": "afc4b3da",
   "metadata": {},
   "outputs": [
    {
     "data": {
      "text/plain": [
       "array([[ 3.45321408e-01,  1.46339385e+00,  4.48815430e-01,\n",
       "         2.42940781e-01,  8.33644906e-01],\n",
       "       [-5.24643017e-01,  7.38714477e-01, -5.13174621e-01,\n",
       "        -5.64472944e-01,  3.33652503e-01],\n",
       "       [ 1.10195888e-01, -1.95329120e+00,  1.02413691e-01,\n",
       "        -3.34303973e-02,  9.69357129e-01],\n",
       "       [-2.42492393e-01,  5.84274611e-01, -2.83235536e-01,\n",
       "        -3.18541776e-01, -7.64902232e-01],\n",
       "       [-9.71381506e-01,  1.21153807e+00, -9.80731648e-01,\n",
       "        -8.74599381e-01, -1.04346943e+00],\n",
       "       [ 2.75829706e+00,  1.22579406e+00,  2.69701391e+00,\n",
       "         3.30080553e+00,  7.40789174e-01],\n",
       "       [-6.42205778e-01,  3.91818777e-01, -5.97642040e-01,\n",
       "        -6.35298710e-01, -7.48473910e-01],\n",
       "       [-8.77331298e-01, -1.19772385e+00, -8.80479913e-01,\n",
       "        -8.05280546e-01, -1.69917375e+00],\n",
       "       [ 1.66038199e-01, -1.21910783e+00,  2.70495323e-01,\n",
       "         1.29830829e-02,  4.69364727e-01],\n",
       "       [-2.21918910e-01, -6.46492326e-01, -2.46547667e-01,\n",
       "        -2.96239195e-01, -1.81274345e+00],\n",
       "       [-2.68944014e-01,  2.12629728e+00, -2.98593248e-01,\n",
       "        -3.41748516e-01, -7.01331769e-01],\n",
       "       [-7.15682503e-01,  1.26618602e+00, -6.61632509e-01,\n",
       "        -7.39578347e-01,  1.93362819e+00],\n",
       "       [ 1.90302798e+00,  2.42804902e+00,  2.05710922e+00,\n",
       "         1.84812387e+00,  1.51934877e+00],\n",
       "       [-1.12715216e+00,  2.01937737e+00, -1.11809785e+00,\n",
       "        -9.95756647e-01, -4.44907094e-01],\n",
       "       [ 2.01307027e-01, -1.04803598e+00,  1.18624610e-01,\n",
       "         8.71240969e-02, -8.43472466e-01],\n",
       "       [-8.45001539e-01, -1.02902800e+00, -8.74507469e-01,\n",
       "        -7.89005690e-01, -9.62042093e-01],\n",
       "       [-1.49776877e+00, -4.23148519e-01, -1.41160081e+00,\n",
       "        -1.20943949e+00,  7.19360928e-01],\n",
       "       [-5.36399294e-01, -7.62916225e-01, -5.56688140e-01,\n",
       "        -5.66884034e-01, -1.12346821e+00],\n",
       "       [-1.38196945e+00,  2.08352932e+00, -1.39155046e+00,\n",
       "        -1.14675115e+00, -1.09275439e+00],\n",
       "       [-3.68872360e-01,  1.01947027e-01, -3.92872539e-01,\n",
       "        -4.29753297e-01, -3.69193959e-01],\n",
       "       [ 6.24532964e-01,  9.48190336e-02,  7.64501743e-01,\n",
       "         4.94296901e-01,  4.33650984e-01],\n",
       "       [-6.42205778e-01, -2.06932706e-01, -6.89788315e-01,\n",
       "        -6.45545842e-01, -9.94184462e-01],\n",
       "       [-6.45144847e-01, -1.94853920e+00, -6.71444381e-01,\n",
       "        -6.30175144e-01, -5.57762522e-01],\n",
       "       [-4.59983499e-01, -9.72487602e-03, -4.24867774e-01,\n",
       "        -5.00277676e-01, -6.37761306e-01],\n",
       "       [-1.49394798e+00, -5.01168411e-02, -1.35699561e+00,\n",
       "        -1.22752266e+00,  2.25082725e-01],\n",
       "       [-1.37814866e+00, -1.87924722e-01, -1.36766068e+00,\n",
       "        -1.12474996e+00,  3.12224258e-01],\n",
       "       [-2.01345427e-01,  5.86650609e-01, -2.43134842e-01,\n",
       "        -2.67607502e-01, -1.06489767e+00],\n",
       "       [ 1.82661219e+00,  5.70018623e-01,  1.87793590e+00,\n",
       "         1.84511001e+00,  1.46220678e+00],\n",
       "       [ 2.18941441e-01,  2.61138890e-01,  1.80908666e-01,\n",
       "         8.77268693e-02, -4.70559971e-02],\n",
       "       [ 1.32990953e+00, -3.58996574e-01,  1.35748009e+00,\n",
       "         1.27850389e+00,  9.55071632e-01],\n",
       "       [ 3.41077038e+00, -3.92260545e-01,  3.51182588e+00,\n",
       "         4.09345133e+00,  1.31220906e+00],\n",
       "       [ 9.24318002e-01,  1.49903382e+00,  8.75418556e-01,\n",
       "         8.34863347e-01, -9.44185222e-01],\n",
       "       [ 8.66833357e-02,  1.56594980e-01,  1.10945753e-01,\n",
       "        -2.80054451e-02,  7.07993549e-02],\n",
       "       [ 8.59658484e-01, -7.34887807e-03,  9.18078869e-01,\n",
       "         7.32994800e-01,  1.25506707e+00],\n",
       "       [-9.00843850e-01, -4.73044476e-01, -8.80053310e-01,\n",
       "        -8.59831455e-01,  1.63363275e+00],\n",
       "       [-1.40842107e+00,  6.72186535e-01, -1.40221554e+00,\n",
       "        -1.16875235e+00, -2.94909374e-01],\n",
       "       [ 1.20352956e+00, -9.76368001e-02,  1.21243503e+00,\n",
       "         1.14890780e+00,  1.30506631e+00],\n",
       "       [-5.18764879e-01, -1.35652767e-01, -5.49009283e-01,\n",
       "        -5.57842447e-01, -8.39901092e-01],\n",
       "       [ 2.16002372e-01, -5.15812439e-01,  1.28436482e-01,\n",
       "         6.60270604e-02, -5.20620229e-01],\n",
       "       [ 2.22926464e+00, -4.42156502e-01,  2.09123747e+00,\n",
       "         2.69501919e+00, -1.92053794e-01],\n",
       "       [-6.24571364e-01,  2.16668924e+00, -6.44568384e-01,\n",
       "        -6.30777916e-01, -8.68472086e-01],\n",
       "       [-1.13173357e-01, -2.85340638e-01, -1.60373835e-01,\n",
       "        -2.01302530e-01, -1.22060959e+00],\n",
       "       [-1.33964685e+00, -7.60540227e-01, -1.35102316e+00,\n",
       "        -1.12173609e+00, -8.49186665e-01],\n",
       "       [ 1.55033970e+00, -2.21188693e-01,  1.50679118e+00,\n",
       "         1.48646039e+00,  5.12221218e-01],\n",
       "       [-6.68657399e-01, -3.92260545e-01, -6.97040568e-01,\n",
       "        -6.60313767e-01, -9.14899952e-01],\n",
       "       [-4.39410016e-01,  3.91818777e-01, -4.15055902e-01,\n",
       "        -5.16552533e-01,  2.00083105e-01],\n",
       "       [ 3.21808856e-01,  2.73455275e+00,  4.91475742e-01,\n",
       "         1.96225914e-01,  5.90791453e-01],\n",
       "       [ 1.27112815e+00,  6.65058541e-01,  1.20816899e+00,\n",
       "         1.27549002e+00, -1.59197150e-01],\n",
       "       [-6.09876019e-01,  8.57514375e-01, -5.60100965e-01,\n",
       "        -6.14804446e-01, -1.94131293e+00],\n",
       "       [ 3.90747304e+00,  1.70099365e+00,  4.05361185e+00,\n",
       "         5.57325774e+00,  8.47930403e-01],\n",
       "       [ 1.42525647e-01, -8.12812182e-01,  3.41571905e-02,\n",
       "         3.95050717e-02, -1.45346320e+00],\n",
       "       [-4.89374189e-01, -1.49234759e+00, -5.56688140e-01,\n",
       "        -5.25895506e-01, -1.62917481e+00],\n",
       "       [-6.06936950e-01, -5.01168411e-02, -6.49261018e-01,\n",
       "        -6.22339101e-01, -9.04900104e-01],\n",
       "       [-1.36685909e-01,  4.53111166e-03, -1.03209016e-01,\n",
       "        -2.30536995e-01, -4.25621673e-01],\n",
       "       [-1.48442185e-01,  9.78690270e-01, -2.00047926e-01,\n",
       "        -2.36866106e-01, -2.90623724e-01],\n",
       "       [ 1.99707819e+00,  1.42062589e+00,  2.18082412e+00,\n",
       "         2.09526058e+00,  9.55071632e-01],\n",
       "       [ 3.92346512e-01,  1.14976212e+00,  5.08539867e-01,\n",
       "         2.39625532e-01,  1.55506251e+00],\n",
       "       [ 4.01163719e-01,  2.04114939e-01,  4.48815430e-01,\n",
       "         2.80011288e-01,  1.39077930e+00],\n",
       "       [-7.09804365e-01, -4.56412490e-01, -7.33728437e-01,\n",
       "        -6.97685660e-01,  8.65134018e-02],\n",
       "       [ 5.71629722e-01,  1.28083005e-01,  5.21337961e-01,\n",
       "         5.00023239e-01, -3.46337164e-01],\n",
       "       [ 7.27400379e-01,  2.13104927e+00,  7.00511274e-01,\n",
       "         6.21783279e-01, -8.55615139e-01],\n",
       "       [-8.96608046e-02,  1.27806601e+00,  1.92260811e-02,\n",
       "        -1.68451431e-01,  1.40506479e+00],\n",
       "       [-1.36962536e+00,  4.51218726e-01, -1.35528919e+00,\n",
       "        -1.15247749e+00,  5.62220459e-01],\n",
       "       [-5.30521156e-01, -1.59689150e+00, -5.55834933e-01,\n",
       "        -5.65678489e-01,  4.47936481e-01],\n",
       "       [-6.24571364e-01, -8.22316174e-01, -6.36889528e-01,\n",
       "        -6.28366826e-01,  5.00853839e-02],\n",
       "       [ 3.96582316e-02, -2.23564691e-01, -2.81268659e-02,\n",
       "        -5.63357512e-02, -2.19773760e+00],\n",
       "       [-7.21560641e-01,  2.15994929e-01, -7.11118472e-01,\n",
       "        -7.10042496e-01,  3.62223498e-01],\n",
       "       [-1.00371127e+00,  3.03906853e-01, -9.54708857e-01,\n",
       "        -9.24930882e-01,  8.33644906e-01],\n",
       "       [-6.95109020e-01, -2.30692685e-01, -7.20077137e-01,\n",
       "        -6.65135947e-01,  2.25082725e-01],\n",
       "       [ 1.77958708e+00,  1.01947027e-01,  1.78834925e+00,\n",
       "         1.80291594e+00,  1.19792508e+00],\n",
       "       [-1.04485823e+00, -1.87924722e-01, -1.06903849e+00,\n",
       "        -9.36986331e-01, -1.07918317e+00],\n",
       "       [ 1.48274111e+00,  1.35172195e+00,  1.72862481e+00,\n",
       "         1.42015542e+00,  6.22280565e-02],\n",
       "       [-7.00987158e-01, -1.05041198e+00, -6.64192128e-01,\n",
       "        -6.80506645e-01, -1.10989699e+00],\n",
       "       [-2.68944014e-01,  1.45864186e+00, -3.31868292e-01,\n",
       "        -3.43255447e-01, -6.15618786e-01],\n",
       "       [-4.42349085e-01,  1.15451412e+00, -4.49184152e-01,\n",
       "        -4.68330735e-01, -1.24989486e+00],\n",
       "       [-5.77546260e-01, -2.56828662e-01, -5.79724709e-01,\n",
       "        -5.92200478e-01, -4.04193427e-01],\n",
       "       [-8.94965712e-01, -6.67488267e-02, -7.92599669e-01,\n",
       "        -8.74599381e-01,  1.79077322e+00],\n",
       "       [-7.00987158e-01, -1.20960384e+00, -7.52498975e-01,\n",
       "        -6.76588624e-01, -1.31417960e+00],\n",
       "       [ 1.66496339e+00,  1.42775388e+00,  1.64330418e+00,\n",
       "         1.62811192e+00,  3.55080749e-01],\n",
       "       [ 6.27472033e-01,  6.57930547e-01,  6.66383024e-01,\n",
       "         5.27449387e-01,  1.42649304e+00],\n",
       "       [ 2.67012499e+00,  1.86731350e+00,  2.62875741e+00,\n",
       "         3.06873812e+00, -1.02769436e-01],\n",
       "       [-1.42564047e-01, -6.58372316e-01, -1.99194720e-01,\n",
       "        -2.41085514e-01, -1.40560678e+00],\n",
       "       [ 4.77579513e-01,  2.70642882e-01,  4.57347492e-01,\n",
       "         3.30041403e-01,  4.26508235e-01],\n",
       "       [ 5.98081343e-01,  5.77146617e-01,  6.10924618e-01,\n",
       "         4.76213727e-01,  3.05081509e-01],\n",
       "       [-1.21990564e-01,  4.08450763e-01, -7.16403848e-02,\n",
       "        -2.22700953e-01,  1.59791901e+00],\n",
       "       [-5.51094639e-01, -2.78212644e-01, -5.80577915e-01,\n",
       "        -5.77131166e-01, -7.13474442e-01],\n",
       "       [ 1.49449739e+00, -1.28524773e-01,  1.43426865e+00,\n",
       "         1.50755742e+00,  6.26505196e-01],\n",
       "       [-1.73583335e+00,  3.77562789e-01, -1.64708573e+00,\n",
       "        -1.34988547e+00, -1.77054022e-01],\n",
       "       [-9.25998736e-02,  1.10224216e+00, -1.36223596e-02,\n",
       "        -1.62725092e-01,  2.55504732e+00],\n",
       "       [ 5.89264136e-01, -2.92468632e-01,  6.45052868e-01,\n",
       "         4.68377685e-01,  5.33649464e-01],\n",
       "       [ 4.04102788e-01,  4.67850711e-01,  4.70145586e-01,\n",
       "         4.56020849e-01,  1.10506935e+00],\n",
       "       [ 1.45335042e+00,  1.35409795e+00,  1.55371753e+00,\n",
       "         1.36289203e+00, -4.08479076e-01],\n",
       "       [ 1.19013095e-01, -1.21910783e+00,  8.44963595e-02,\n",
       "        -2.28818791e-02,  9.55071632e-01],\n",
       "       [ 2.68905614e-01, -5.63332398e-01,  2.92252082e-01,\n",
       "         1.13344699e-01,  1.64369362e-01],\n",
       "       [ 4.51127892e-01,  9.71562276e-01,  7.81565868e-01,\n",
       "         3.66810523e-01,  1.02649912e+00],\n",
       "       [ 2.31743671e+00,  6.62682543e-01,  2.35999744e+00,\n",
       "         2.50213200e+00,  6.97932682e-01],\n",
       "       [-7.59768538e-01, -1.99368316e+00, -7.74255734e-01,\n",
       "        -7.31440919e-01, -7.54188109e-01],\n",
       "       [-1.07130985e+00, -9.81508036e-01, -1.04045609e+00,\n",
       "        -9.58987526e-01,  1.16512946e-01],\n",
       "       [-1.28938877e+00, -1.69668342e+00, -1.30708304e+00,\n",
       "        -1.09491272e+00, -2.87766625e-01],\n",
       "       [-8.39123401e-01, -8.57956143e-01, -7.89186844e-01,\n",
       "        -7.82977965e-01, -9.19899876e-01],\n",
       "       [-1.52098741e+00, -7.96180196e-01, -1.41373382e+00,\n",
       "        -1.22541296e+00, -1.36340355e-01],\n",
       "       [ 1.48568018e+00,  8.02866422e-01,  1.51958928e+00,\n",
       "         1.49550198e+00, -8.07044448e-01],\n",
       "       [-5.51094639e-01,  7.90986432e-01, -5.84417343e-01,\n",
       "        -5.58445220e-01, -1.04346943e+00],\n",
       "       [-6.95109020e-01,  5.91402605e-01, -7.32022025e-01,\n",
       "        -6.74780306e-01, -7.25617114e-01],\n",
       "       [ 9.55005427e-02,  2.63514888e-01,  1.11372356e-01,\n",
       "        -2.74026726e-02,  1.56512338e-01],\n",
       "       [ 1.78546522e+00,  1.83404953e+00,  1.78408322e+00,\n",
       "         1.75469414e+00,  1.80083408e-01],\n",
       "       [-2.18979841e-01,  2.75831273e+00, -2.36309192e-01,\n",
       "        -2.85087904e-01, -2.91337999e-01],\n",
       "       [ 1.60618201e+00, -2.28316687e-01,  1.65610228e+00,\n",
       "         1.69441689e+00,  1.10506935e+00],\n",
       "       [-3.48298877e-01, -6.98764281e-01, -3.71115780e-01,\n",
       "        -4.34575477e-01,  1.61512262e-01],\n",
       "       [ 2.95357235e-01,  2.54209692e+00,  2.06078251e-01,\n",
       "         2.04061956e-01, -9.52042245e-01],\n",
       "       [-8.18549918e-01, -1.19020782e-01, -8.15636238e-01,\n",
       "        -7.85389055e-01,  5.97934202e-01],\n",
       "       [ 1.22998118e+00, -1.26148775e-01,  1.13991249e+00,\n",
       "         1.17301870e+00, -7.60616582e-01],\n",
       "       [-7.95037366e-01,  3.01530855e-01, -6.10013531e-01,\n",
       "        -8.00759753e-01,  3.28360768e+00],\n",
       "       [ 9.47830554e-01,  9.38298305e-01,  8.15694118e-01,\n",
       "         8.47822955e-01, -7.07760243e-01],\n",
       "       [-2.71883083e-01, -7.81924209e-01, -3.33148101e-01,\n",
       "        -3.45063765e-01, -8.15615747e-01],\n",
       "       [-8.12671780e-01, -3.66124568e-01, -8.27154522e-01,\n",
       "        -7.59469839e-01, -5.67762370e-01],\n",
       "       [ 1.16238259e+00,  6.48426555e-01,  1.08872012e+00,\n",
       "         1.12178304e+00, -1.62988909e+00],\n",
       "       [-1.04485823e+00,  2.63514888e-01, -9.26979654e-01,\n",
       "        -9.44822373e-01, -4.14193275e-01],\n",
       "       [ 1.55033970e+00,  1.04284221e+00,  1.58784578e+00,\n",
       "         1.51659901e+00,  4.40793732e-01],\n",
       "       [-1.06249265e+00,  9.45426299e-01, -1.06775869e+00,\n",
       "        -9.57179209e-01,  3.55080749e-01],\n",
       "       [-4.01202119e-01, -1.36404371e+00, -4.09083458e-01,\n",
       "        -4.45123995e-01, -6.13475961e-01],\n",
       "       [-3.36542601e-01,  5.68030665e-02, -3.13950961e-01,\n",
       "        -4.15286758e-01, -5.27701960e-02],\n",
       "       [ 1.20352956e+00, -5.72448350e-02,  1.14417853e+00,\n",
       "         1.13082463e+00,  6.65137057e-02],\n",
       "       [-1.32818448e+00, -5.39572418e-01, -1.29001891e+00,\n",
       "        -1.11902362e+00, -8.37043992e-01],\n",
       "       [ 1.04481983e+00,  3.87066781e-01,  1.08872012e+00,\n",
       "         9.40047143e-01,  1.06935561e+00],\n",
       "       [-1.53920964e+00, -1.06229197e+00, -1.41160081e+00,\n",
       "        -1.22902959e+00,  9.29418755e-02],\n",
       "       [ 1.66790246e+00,  5.81898613e-01,  1.61344197e+00,\n",
       "         1.74263869e+00, -1.92768069e-01],\n",
       "       [-7.09804365e-01, -8.69836133e-01, -7.18797328e-01,\n",
       "        -6.97685660e-01,  1.31935181e+00],\n",
       "       [-3.62994222e-01, -1.18821986e+00, -2.95607026e-01,\n",
       "        -4.20711710e-01, -6.37761306e-01],\n",
       "       [ 4.11026880e+00, -1.52284753e-01,  4.12186835e+00,\n",
       "         5.56723002e+00,  1.26220982e+00],\n",
       "       [-7.68585745e-01,  1.14501013e+00, -7.40554087e-01,\n",
       "        -7.48318548e-01, -2.79909602e-01],\n",
       "       [-1.24060023e+00, -2.49700669e-01, -1.16374439e+00,\n",
       "        -1.05302003e+00,  3.29427873e-02],\n",
       "       [-7.39195055e-01, -7.34404250e-01, -7.00453393e-01,\n",
       "        -7.34153395e-01,  8.76501397e-01],\n",
       "       [-1.02134568e+00,  1.45151386e+00, -1.01827272e+00,\n",
       "        -9.18601771e-01,  2.94324314e-03],\n",
       "       [-8.53818746e-01,  3.49249610e+00, -8.99677053e-01,\n",
       "        -7.98650049e-01, -1.33775067e+00],\n",
       "       [ 1.14768725e+00, -5.37196420e-01,  1.09298615e+00,\n",
       "         1.01931172e+00, -5.04191908e-01],\n",
       "       [-5.09947672e-01, -3.87508550e-01, -4.79472974e-01,\n",
       "        -5.69295124e-01,  5.47934962e-01],\n",
       "       [-8.08435976e-02, -9.33988077e-01, -1.23259363e-01,\n",
       "        -1.94069261e-01, -9.77695122e-02],\n",
       "       [-2.83639359e-01,  3.39546822e-01, -3.33574705e-01,\n",
       "        -3.40844358e-01, -1.65560298e+00],\n",
       "       [-5.71668122e-01, -1.19534785e+00, -6.24091434e-01,\n",
       "        -5.73815918e-01, -1.37060731e+00],\n",
       "       [-1.21990564e-01, -1.02388796e-01, -1.34351044e-01,\n",
       "        -2.43496603e-01,  1.87940432e-01],\n",
       "       [ 1.45464716e-01,  1.16639411e+00,  1.14785181e-01,\n",
       "         3.28745745e-02, -4.84906486e-01],\n",
       "       [-7.36255986e-01, -2.21188693e-01, -6.61205906e-01,\n",
       "        -7.32345077e-01,  1.49792053e+00],\n",
       "       [ 1.91478426e+00, -4.18396523e-01,  1.83100956e+00,\n",
       "         2.05909424e+00, -1.47768752e-01],\n",
       "       [-8.09732711e-01, -5.24928391e-02, -8.40805822e-01,\n",
       "        -7.70922516e-01, -6.71332225e-01],\n",
       "       [-2.98334704e-01,  8.14746412e-01, -2.07300179e-01,\n",
       "        -3.68873277e-01,  2.62225017e-01],\n",
       "       [-1.42752502e+00, -1.48284360e+00, -1.29641796e+00,\n",
       "        -1.21486444e+00,  4.77644213e+00],\n",
       "       [ 1.90008891e+00,  5.05866678e-01,  1.95899050e+00,\n",
       "         2.01388630e+00,  8.55073151e-01],\n",
       "       [-9.77259644e-01,  6.81690527e-01, -9.84997679e-01,\n",
       "        -8.79722947e-01, -6.08476037e-01],\n",
       "       [-3.86506774e-01, -1.43769964e+00, -4.51743771e-01,\n",
       "        -4.30958842e-01, -6.52761079e-01],\n",
       "       [-8.42062470e-01,  2.01738941e-01, -7.74682337e-01,\n",
       "        -7.76648854e-01, -1.16632470e+00],\n",
       "       [-2.48370531e-01,  2.77770876e-01, -1.94502085e-01,\n",
       "        -3.21254252e-01,  5.40792213e-01],\n",
       "       [-3.57116084e-01, -6.60748313e-01, -3.98844983e-01,\n",
       "        -4.08053488e-01, -1.22275242e+00],\n",
       "       [-3.30664463e-01,  1.43012988e+00, -3.95432158e-01,\n",
       "        -3.96600811e-01, -9.17042777e-01],\n",
       "       [-6.15754157e-01, -2.80588642e-01, -6.73577396e-01,\n",
       "        -6.20229398e-01, -1.40703533e+00],\n",
       "       [ 1.58854760e+00,  3.17411237e+00,  1.54091943e+00,\n",
       "         1.72154165e+00, -8.80614759e-01],\n",
       "       [-1.11833496e+00, -6.55996318e-01, -1.13345557e+00,\n",
       "        -9.85208129e-01, -1.56340051e-01],\n",
       "       [-1.86650082e-01,  7.57722461e-01, -2.11992813e-01,\n",
       "        -2.73635227e-01, -6.43475505e-01],\n",
       "       [ 1.51342854e-01, -9.19732090e-01,  1.65977557e-01,\n",
       "         3.24861043e-04,  1.19078234e+00],\n",
       "       [ 1.33708440e-01, -1.29513977e+00,  1.02840294e-01,\n",
       "         2.11205113e-02,  1.27941344e-01],\n",
       "       [-6.53962054e-01, -1.05991597e+00, -5.87403565e-01,\n",
       "        -6.60012381e-01,  1.33363731e+00],\n",
       "       [-1.25735292e+00, -8.15188180e-01, -1.23200089e+00,\n",
       "        -1.08074757e+00, -1.14912109e-01],\n",
       "       [-1.13596937e+00, -1.04565998e+00, -1.09548789e+00,\n",
       "        -9.95153875e-01,  1.63655087e-01],\n",
       "       [-1.13596937e+00, -1.63728347e+00, -1.11468503e+00,\n",
       "        -9.95153875e-01,  2.45082421e-01],\n",
       "       [ 1.51213180e+00,  1.74851360e+00,  1.53665340e+00,\n",
       "         1.53769605e+00, -1.79911121e-01],\n",
       "       [ 1.75313546e+00,  1.12837814e+00,  1.82674353e+00,\n",
       "         1.79387435e+00,  8.19359408e-01],\n",
       "       [ 1.98367958e-01, -3.44740587e-01,  1.70670191e-01,\n",
       "         6.93423090e-02, -3.38480140e-01],\n",
       "       [-7.42134124e-01, -1.48997160e+00, -7.48232944e-01,\n",
       "        -7.20892400e-01, -4.78478013e-01],\n",
       "       [ 1.19013095e-01,  5.44270685e-02,  1.01133881e-01,\n",
       "         2.38329874e-02, -9.03471554e-01],\n",
       "       [-9.06721988e-01, -9.93388026e-01, -9.04796291e-01,\n",
       "        -8.41145508e-01, -1.18989577e+00],\n",
       "       [-1.30996226e+00, -2.40196677e-01, -1.31476190e+00,\n",
       "        -1.10154322e+00, -9.58470719e-01]])"
      ]
     },
     "execution_count": 37,
     "metadata": {},
     "output_type": "execute_result"
    }
   ],
   "source": [
    "x_test_sc"
   ]
  },
  {
   "cell_type": "code",
   "execution_count": 38,
   "id": "5d5c074e",
   "metadata": {},
   "outputs": [
    {
     "data": {
      "text/html": [
       "<style>#sk-container-id-1 {color: black;background-color: white;}#sk-container-id-1 pre{padding: 0;}#sk-container-id-1 div.sk-toggleable {background-color: white;}#sk-container-id-1 label.sk-toggleable__label {cursor: pointer;display: block;width: 100%;margin-bottom: 0;padding: 0.3em;box-sizing: border-box;text-align: center;}#sk-container-id-1 label.sk-toggleable__label-arrow:before {content: \"▸\";float: left;margin-right: 0.25em;color: #696969;}#sk-container-id-1 label.sk-toggleable__label-arrow:hover:before {color: black;}#sk-container-id-1 div.sk-estimator:hover label.sk-toggleable__label-arrow:before {color: black;}#sk-container-id-1 div.sk-toggleable__content {max-height: 0;max-width: 0;overflow: hidden;text-align: left;background-color: #f0f8ff;}#sk-container-id-1 div.sk-toggleable__content pre {margin: 0.2em;color: black;border-radius: 0.25em;background-color: #f0f8ff;}#sk-container-id-1 input.sk-toggleable__control:checked~div.sk-toggleable__content {max-height: 200px;max-width: 100%;overflow: auto;}#sk-container-id-1 input.sk-toggleable__control:checked~label.sk-toggleable__label-arrow:before {content: \"▾\";}#sk-container-id-1 div.sk-estimator input.sk-toggleable__control:checked~label.sk-toggleable__label {background-color: #d4ebff;}#sk-container-id-1 div.sk-label input.sk-toggleable__control:checked~label.sk-toggleable__label {background-color: #d4ebff;}#sk-container-id-1 input.sk-hidden--visually {border: 0;clip: rect(1px 1px 1px 1px);clip: rect(1px, 1px, 1px, 1px);height: 1px;margin: -1px;overflow: hidden;padding: 0;position: absolute;width: 1px;}#sk-container-id-1 div.sk-estimator {font-family: monospace;background-color: #f0f8ff;border: 1px dotted black;border-radius: 0.25em;box-sizing: border-box;margin-bottom: 0.5em;}#sk-container-id-1 div.sk-estimator:hover {background-color: #d4ebff;}#sk-container-id-1 div.sk-parallel-item::after {content: \"\";width: 100%;border-bottom: 1px solid gray;flex-grow: 1;}#sk-container-id-1 div.sk-label:hover label.sk-toggleable__label {background-color: #d4ebff;}#sk-container-id-1 div.sk-serial::before {content: \"\";position: absolute;border-left: 1px solid gray;box-sizing: border-box;top: 0;bottom: 0;left: 50%;z-index: 0;}#sk-container-id-1 div.sk-serial {display: flex;flex-direction: column;align-items: center;background-color: white;padding-right: 0.2em;padding-left: 0.2em;position: relative;}#sk-container-id-1 div.sk-item {position: relative;z-index: 1;}#sk-container-id-1 div.sk-parallel {display: flex;align-items: stretch;justify-content: center;background-color: white;position: relative;}#sk-container-id-1 div.sk-item::before, #sk-container-id-1 div.sk-parallel-item::before {content: \"\";position: absolute;border-left: 1px solid gray;box-sizing: border-box;top: 0;bottom: 0;left: 50%;z-index: -1;}#sk-container-id-1 div.sk-parallel-item {display: flex;flex-direction: column;z-index: 1;position: relative;background-color: white;}#sk-container-id-1 div.sk-parallel-item:first-child::after {align-self: flex-end;width: 50%;}#sk-container-id-1 div.sk-parallel-item:last-child::after {align-self: flex-start;width: 50%;}#sk-container-id-1 div.sk-parallel-item:only-child::after {width: 0;}#sk-container-id-1 div.sk-dashed-wrapped {border: 1px dashed gray;margin: 0 0.4em 0.5em 0.4em;box-sizing: border-box;padding-bottom: 0.4em;background-color: white;}#sk-container-id-1 div.sk-label label {font-family: monospace;font-weight: bold;display: inline-block;line-height: 1.2em;}#sk-container-id-1 div.sk-label-container {text-align: center;}#sk-container-id-1 div.sk-container {/* jupyter's `normalize.less` sets `[hidden] { display: none; }` but bootstrap.min.css set `[hidden] { display: none !important; }` so we also need the `!important` here to be able to override the default hidden behavior on the sphinx rendered scikit-learn.org. See: https://github.com/scikit-learn/scikit-learn/issues/21755 */display: inline-block !important;position: relative;}#sk-container-id-1 div.sk-text-repr-fallback {display: none;}</style><div id=\"sk-container-id-1\" class=\"sk-top-container\"><div class=\"sk-text-repr-fallback\"><pre>RandomForestClassifier()</pre><b>In a Jupyter environment, please rerun this cell to show the HTML representation or trust the notebook. <br />On GitHub, the HTML representation is unable to render, please try loading this page with nbviewer.org.</b></div><div class=\"sk-container\" hidden><div class=\"sk-item\"><div class=\"sk-estimator sk-toggleable\"><input class=\"sk-toggleable__control sk-hidden--visually\" id=\"sk-estimator-id-1\" type=\"checkbox\" checked><label for=\"sk-estimator-id-1\" class=\"sk-toggleable__label sk-toggleable__label-arrow\">RandomForestClassifier</label><div class=\"sk-toggleable__content\"><pre>RandomForestClassifier()</pre></div></div></div></div></div>"
      ],
      "text/plain": [
       "RandomForestClassifier()"
      ]
     },
     "execution_count": 38,
     "metadata": {},
     "output_type": "execute_result"
    }
   ],
   "source": [
    "from sklearn.metrics import confusion_matrix,classification_report,accuracy_score\n",
    "from sklearn.ensemble import RandomForestClassifier\n",
    "\n",
    "forest=RandomForestClassifier()\n",
    "forest.fit(x_train,y_train)"
   ]
  },
  {
   "cell_type": "code",
   "execution_count": 40,
   "id": "9ed901fc",
   "metadata": {},
   "outputs": [
    {
     "data": {
      "text/plain": [
       "array([0, 1, 1, 1, 1, 0, 1, 1, 1, 1, 1, 1, 0, 1, 1, 1, 1, 1, 1, 1, 0, 1,\n",
       "       1, 1, 1, 1, 1, 0, 0, 0, 0, 0, 1, 0, 1, 1, 0, 1, 1, 0, 1, 1, 1, 0,\n",
       "       1, 1, 0, 0, 1, 0, 1, 1, 1, 1, 0, 0, 0, 0, 1, 0, 0, 0, 1, 1, 1, 1,\n",
       "       1, 1, 1, 0, 1, 0, 1, 1, 1, 1, 1, 1, 0, 0, 0, 1, 0, 0, 0, 1, 0, 1,\n",
       "       0, 0, 0, 0, 1, 0, 0, 0, 1, 1, 1, 1, 1, 0, 1, 1, 0, 0, 0, 0, 1, 0,\n",
       "       1, 0, 1, 0, 1, 1, 0, 1, 0, 1, 1, 1, 0, 1, 0, 1, 0, 1, 1, 0, 1, 1,\n",
       "       1, 1, 1, 0, 1, 1, 1, 1, 1, 0, 1, 0, 1, 0, 1, 0, 1, 1, 1, 1, 1, 1,\n",
       "       1, 0, 1, 1, 1, 1, 1, 1, 1, 1, 0, 0, 1, 1, 1, 1, 1], dtype=int64)"
      ]
     },
     "execution_count": 40,
     "metadata": {},
     "output_type": "execute_result"
    }
   ],
   "source": [
    "prediction_rf=forest.predict(x_test)\n",
    "prediction_rf"
   ]
  },
  {
   "cell_type": "code",
   "execution_count": 41,
   "id": "afbb597f",
   "metadata": {},
   "outputs": [
    {
     "data": {
      "text/plain": [
       "0.9298245614035088"
      ]
     },
     "execution_count": 41,
     "metadata": {},
     "output_type": "execute_result"
    }
   ],
   "source": [
    "accuracy_score(prediction_rf,y_test)"
   ]
  },
  {
   "cell_type": "markdown",
   "id": "9074844d",
   "metadata": {},
   "source": [
    "### saving model"
   ]
  },
  {
   "cell_type": "code",
   "execution_count": 42,
   "id": "26813fbd",
   "metadata": {},
   "outputs": [],
   "source": [
    "# saving model\n",
    "import pickle\n",
    "\n",
    "with open(\"./SavedModels/model5\",\"wb\") as f:\n",
    "    pickle.dump(forest,f)"
   ]
  },
  {
   "cell_type": "code",
   "execution_count": 43,
   "id": "63dc701e",
   "metadata": {},
   "outputs": [],
   "source": [
    "# loading saved model\n",
    "with open(\"./SavedModels/model5\",\"rb\") as f:\n",
    "    lr=pickle.load(f)"
   ]
  },
  {
   "cell_type": "code",
   "execution_count": 45,
   "id": "4d5940b0",
   "metadata": {},
   "outputs": [
    {
     "data": {
      "text/html": [
       "<div>\n",
       "<style scoped>\n",
       "    .dataframe tbody tr th:only-of-type {\n",
       "        vertical-align: middle;\n",
       "    }\n",
       "\n",
       "    .dataframe tbody tr th {\n",
       "        vertical-align: top;\n",
       "    }\n",
       "\n",
       "    .dataframe thead th {\n",
       "        text-align: right;\n",
       "    }\n",
       "</style>\n",
       "<table border=\"1\" class=\"dataframe\">\n",
       "  <thead>\n",
       "    <tr style=\"text-align: right;\">\n",
       "      <th></th>\n",
       "      <th>mean_radius</th>\n",
       "      <th>mean_texture</th>\n",
       "      <th>mean_perimeter</th>\n",
       "      <th>mean_area</th>\n",
       "      <th>mean_smoothness</th>\n",
       "    </tr>\n",
       "  </thead>\n",
       "  <tbody>\n",
       "    <tr>\n",
       "      <th>28</th>\n",
       "      <td>15.300</td>\n",
       "      <td>25.27</td>\n",
       "      <td>102.40</td>\n",
       "      <td>732.4</td>\n",
       "      <td>0.10820</td>\n",
       "    </tr>\n",
       "    <tr>\n",
       "      <th>163</th>\n",
       "      <td>12.340</td>\n",
       "      <td>22.22</td>\n",
       "      <td>79.85</td>\n",
       "      <td>464.5</td>\n",
       "      <td>0.10120</td>\n",
       "    </tr>\n",
       "    <tr>\n",
       "      <th>123</th>\n",
       "      <td>14.500</td>\n",
       "      <td>10.89</td>\n",
       "      <td>94.28</td>\n",
       "      <td>640.7</td>\n",
       "      <td>0.11010</td>\n",
       "    </tr>\n",
       "    <tr>\n",
       "      <th>361</th>\n",
       "      <td>13.300</td>\n",
       "      <td>21.57</td>\n",
       "      <td>85.24</td>\n",
       "      <td>546.1</td>\n",
       "      <td>0.08582</td>\n",
       "    </tr>\n",
       "    <tr>\n",
       "      <th>549</th>\n",
       "      <td>10.820</td>\n",
       "      <td>24.21</td>\n",
       "      <td>68.89</td>\n",
       "      <td>361.6</td>\n",
       "      <td>0.08192</td>\n",
       "    </tr>\n",
       "    <tr>\n",
       "      <th>...</th>\n",
       "      <td>...</td>\n",
       "      <td>...</td>\n",
       "      <td>...</td>\n",
       "      <td>...</td>\n",
       "      <td>...</td>\n",
       "    </tr>\n",
       "    <tr>\n",
       "      <th>447</th>\n",
       "      <td>14.800</td>\n",
       "      <td>17.66</td>\n",
       "      <td>95.88</td>\n",
       "      <td>674.8</td>\n",
       "      <td>0.09179</td>\n",
       "    </tr>\n",
       "    <tr>\n",
       "      <th>98</th>\n",
       "      <td>11.600</td>\n",
       "      <td>12.84</td>\n",
       "      <td>74.34</td>\n",
       "      <td>412.6</td>\n",
       "      <td>0.08983</td>\n",
       "    </tr>\n",
       "    <tr>\n",
       "      <th>448</th>\n",
       "      <td>14.530</td>\n",
       "      <td>19.34</td>\n",
       "      <td>94.25</td>\n",
       "      <td>659.7</td>\n",
       "      <td>0.08388</td>\n",
       "    </tr>\n",
       "    <tr>\n",
       "      <th>381</th>\n",
       "      <td>11.040</td>\n",
       "      <td>14.93</td>\n",
       "      <td>70.67</td>\n",
       "      <td>372.7</td>\n",
       "      <td>0.07987</td>\n",
       "    </tr>\n",
       "    <tr>\n",
       "      <th>467</th>\n",
       "      <td>9.668</td>\n",
       "      <td>18.10</td>\n",
       "      <td>61.06</td>\n",
       "      <td>286.3</td>\n",
       "      <td>0.08311</td>\n",
       "    </tr>\n",
       "  </tbody>\n",
       "</table>\n",
       "<p>171 rows × 5 columns</p>\n",
       "</div>"
      ],
      "text/plain": [
       "     mean_radius  mean_texture  mean_perimeter  mean_area  mean_smoothness\n",
       "28        15.300         25.27          102.40      732.4          0.10820\n",
       "163       12.340         22.22           79.85      464.5          0.10120\n",
       "123       14.500         10.89           94.28      640.7          0.11010\n",
       "361       13.300         21.57           85.24      546.1          0.08582\n",
       "549       10.820         24.21           68.89      361.6          0.08192\n",
       "..           ...           ...             ...        ...              ...\n",
       "447       14.800         17.66           95.88      674.8          0.09179\n",
       "98        11.600         12.84           74.34      412.6          0.08983\n",
       "448       14.530         19.34           94.25      659.7          0.08388\n",
       "381       11.040         14.93           70.67      372.7          0.07987\n",
       "467        9.668         18.10           61.06      286.3          0.08311\n",
       "\n",
       "[171 rows x 5 columns]"
      ]
     },
     "execution_count": 45,
     "metadata": {},
     "output_type": "execute_result"
    }
   ],
   "source": [
    "x_test"
   ]
  },
  {
   "cell_type": "code",
   "execution_count": 50,
   "id": "e0e93857",
   "metadata": {},
   "outputs": [
    {
     "name": "stdout",
     "output_type": "stream",
     "text": [
      "Enter mean radius: 12.340\n",
      "Enter mean texture: 22.22\n",
      "Enter mean perimeter: 79.85\n",
      "Enter mean area: 464.5\n",
      "Enter mean smoothness: 0.10120\n"
     ]
    }
   ],
   "source": [
    "mr=float(input(\"Enter mean radius: \"))\n",
    "mt=float(input(\"Enter mean texture: \"))\n",
    "mp=float(input(\"Enter mean perimeter: \"))\n",
    "ma=float(input(\"Enter mean area: \"))\n",
    "ms=float(input(\"Enter mean smoothness: \"))"
   ]
  },
  {
   "cell_type": "code",
   "execution_count": 51,
   "id": "a49731ac",
   "metadata": {},
   "outputs": [
    {
     "data": {
      "text/plain": [
       "[[12.34, 22.22, 79.85, 464.5, 0.1012]]"
      ]
     },
     "execution_count": 51,
     "metadata": {},
     "output_type": "execute_result"
    }
   ],
   "source": [
    "lst=[[mr,mt,mp,ma,ms]]\n",
    "lst"
   ]
  },
  {
   "cell_type": "code",
   "execution_count": 52,
   "id": "d243b09c",
   "metadata": {},
   "outputs": [
    {
     "name": "stdout",
     "output_type": "stream",
     "text": [
      "[1]\n"
     ]
    },
    {
     "name": "stderr",
     "output_type": "stream",
     "text": [
      "d:\\programs\\python\\lib\\site-packages\\sklearn\\base.py:450: UserWarning: X does not have valid feature names, but RandomForestClassifier was fitted with feature names\n",
      "  warnings.warn(\n"
     ]
    }
   ],
   "source": [
    "value=lr.predict(lst)\n",
    "print(value)"
   ]
  },
  {
   "cell_type": "code",
   "execution_count": 53,
   "id": "e68857e6",
   "metadata": {},
   "outputs": [
    {
     "name": "stdout",
     "output_type": "stream",
     "text": [
      "Prediction: Yes\n"
     ]
    }
   ],
   "source": [
    "if value==1:\n",
    "    print(\"Prediction: Yes\")\n",
    "else:\n",
    "    print(\"Prediction: No\")"
   ]
  },
  {
   "cell_type": "code",
   "execution_count": null,
   "id": "d9235a5d",
   "metadata": {},
   "outputs": [],
   "source": []
  }
 ],
 "metadata": {
  "kernelspec": {
   "display_name": "Python 3 (ipykernel)",
   "language": "python",
   "name": "python3"
  },
  "language_info": {
   "codemirror_mode": {
    "name": "ipython",
    "version": 3
   },
   "file_extension": ".py",
   "mimetype": "text/x-python",
   "name": "python",
   "nbconvert_exporter": "python",
   "pygments_lexer": "ipython3",
   "version": "3.9.6"
  }
 },
 "nbformat": 4,
 "nbformat_minor": 5
}
